{
 "cells": [
  {
   "cell_type": "markdown",
   "metadata": {
    "id": "sOa0YZd6bC0a"
   },
   "source": [
    "# SVM for classification, without and with kernels\n",
    "\n",
    "In this notebook we are going to explore the use of Support Vector Machines (SVMs) for image classification. We are going to use the famous MNIST dataset, that is a dataset of handwritten digits. We get the data from mldata.org, that is a public repository for machine learning data.\n",
    "\n",
    "The dataset consists of 70,000 images of handwritten digits (i.e., 0, 1, ... 9). Each image is 28 pixels by 28 pixels and we can think of it as a vector of 28x28 = 784 numbers. Each number is an integer between 0 and 255. For each image we have the corresponding label (i.e., 0, 1, ..., 9)."
   ]
  },
  {
   "cell_type": "code",
   "execution_count": 1,
   "metadata": {
    "id": "Y9bjKFJgbC0e"
   },
   "outputs": [],
   "source": [
    "#load the required packages\n",
    "\n",
    "%matplotlib inline  \n",
    "\n",
    "import numpy as np\n",
    "import matplotlib.pyplot as plt\n",
    "\n",
    "import sklearn\n",
    "from sklearn.datasets import fetch_openml"
   ]
  },
  {
   "cell_type": "code",
   "execution_count": 2,
   "metadata": {
    "id": "46Glck-_bC0g"
   },
   "outputs": [],
   "source": [
    "#fix your ID (\"numero di matricola\") and the seed for random generator\n",
    "ID = 2043889 # COMPLETE\n",
    "np.random.seed(ID)"
   ]
  },
  {
   "cell_type": "markdown",
   "metadata": {
    "id": "EbwaImGSbC0h"
   },
   "source": [
    "Now let's load the dataset. 'data' contains the input, 'target' contains the label. We normalize the data by dividing each value by 255 so that each value is in [0,1]"
   ]
  },
  {
   "cell_type": "code",
   "execution_count": 3,
   "metadata": {
    "id": "bLFKqAw3bC0i"
   },
   "outputs": [],
   "source": [
    "#load the MNIST dataset and let's normalize the features so that each value is in [0,1]\n",
    "mnist = fetch_openml('mnist_784', version=1)\n",
    "# rescale the data\n",
    "X, y = mnist.data / 255., mnist.target"
   ]
  },
  {
   "cell_type": "code",
   "execution_count": 4,
   "metadata": {
    "id": "fkswGR8SbC0i"
   },
   "outputs": [],
   "source": [
    "X=X.to_numpy()"
   ]
  },
  {
   "cell_type": "code",
   "execution_count": 5,
   "metadata": {
    "id": "XBlfQsFObC0j"
   },
   "outputs": [],
   "source": [
    "y = y.to_numpy()"
   ]
  },
  {
   "cell_type": "markdown",
   "metadata": {
    "id": "f4iWRygzbC0j"
   },
   "source": [
    "Now split into training and test. We keep 500 samples in the training set. Make sure that each label is present at least 10 times\n",
    "in training. If it is not, then keep adding permutations to the initial data until this \n",
    "happens.\n",
    "\n",
    "**IMPORTANT**: if you cannot run the SVM with 500 samples or 1000 samples (see below), try with a smaller number of samples (e.g. 200 here and 400 below)."
   ]
  },
  {
   "cell_type": "code",
   "execution_count": 6,
   "metadata": {
    "colab": {
     "base_uri": "https://localhost:8080/"
    },
    "id": "4cXWKaBAbC0k",
    "outputId": "ca4f6b95-94bc-4d26-8017-3b9e63872fe3",
    "scrolled": true
   },
   "outputs": [
    {
     "name": "stdout",
     "output_type": "stream",
     "text": [
      "Labels and frequencies in training dataset: \n"
     ]
    },
    {
     "data": {
      "text/plain": [
       "(array(['0', '1', '2', '3', '4', '5', '6', '7', '8', '9'], dtype=object),\n",
       " array([52, 53, 45, 57, 55, 24, 51, 64, 42, 57]))"
      ]
     },
     "execution_count": 6,
     "metadata": {},
     "output_type": "execute_result"
    }
   ],
   "source": [
    "#random permute the data and split into training and test taking the first 500\n",
    "#data samples as training and the rests as test\n",
    "permutation = np.random.permutation(X.shape[0])\n",
    "\n",
    "X = X[permutation]\n",
    "y = y[permutation]\n",
    "\n",
    "m_training = 500\n",
    "\n",
    "X_train, X_test = X[:m_training], X[m_training:]\n",
    "y_train, y_test = y[:m_training], y[m_training:]\n",
    "\n",
    "print(\"Labels and frequencies in training dataset: \")\n",
    "np.unique(y_train, return_counts = True)"
   ]
  },
  {
   "cell_type": "markdown",
   "metadata": {
    "id": "oSKREe7dbC0m"
   },
   "source": [
    "We now provide a function to print an image in a dataset, the corresponding true label, and the index of the image in the dataset."
   ]
  },
  {
   "cell_type": "code",
   "execution_count": 7,
   "metadata": {
    "id": "8TFPL5KpbC0o"
   },
   "outputs": [],
   "source": [
    "#function for plotting a digit and printing the corresponding labe\n",
    "def plot_digit(X_matrix, labels, index):\n",
    "    print(\"INPUT:\")\n",
    "    plt.imshow(\n",
    "        X_matrix[index].reshape(28,28),\n",
    "        cmap          = plt.cm.gray_r,\n",
    "        interpolation = \"nearest\"\n",
    "    )\n",
    "    plt.show()\n",
    "    print(\"LABEL: %s\" % labels[index])\n",
    "    return"
   ]
  },
  {
   "cell_type": "markdown",
   "metadata": {
    "id": "2liPq9pzbC0p"
   },
   "source": [
    "As an example, let's print the 100-th image in X_train and the 40,000-th image in X_test and their true labels."
   ]
  },
  {
   "cell_type": "code",
   "execution_count": 10,
   "metadata": {
    "colab": {
     "base_uri": "https://localhost:8080/",
     "height": 582
    },
    "id": "Gf2W_NQpbC0q",
    "outputId": "e356ce4d-32d6-4049-a7e3-d0c90f1a3522"
   },
   "outputs": [
    {
     "name": "stdout",
     "output_type": "stream",
     "text": [
      "INPUT:\n"
     ]
    },
    {
     "data": {
      "image/png": "[encoded data removed]",
      "text/plain": [
       "<Figure size 432x288 with 1 Axes>"
      ]
     },
     "metadata": {
      "needs_background": "light"
     },
     "output_type": "display_data"
    },
    {
     "name": "stdout",
     "output_type": "stream",
     "text": [
      "LABEL: 0\n",
      "INPUT:\n"
     ]
    },
    {
     "data": {
      "image/png": "[encoded data removed]",
      "text/plain": [
       "<Figure size 432x288 with 1 Axes>"
      ]
     },
     "metadata": {
      "needs_background": "light"
     },
     "output_type": "display_data"
    },
    {
     "name": "stdout",
     "output_type": "stream",
     "text": [
      "LABEL: 0\n"
     ]
    }
   ],
   "source": [
    "#let's try the plotting function\n",
    "plot_digit(X_train,y_train,100)\n",
    "plot_digit(X_test,y_test,40000)"
   ]
  },
  {
   "cell_type": "markdown",
   "metadata": {
    "id": "5MWVeNQJbC0r"
   },
   "source": [
    "## TO DO 1\n",
    "Run SVM with cross validation to pick a kernel and values of parameters. Use a 5-fold cross-validation to pick the best kernel and choice of parameters. We provide some potential choice for parameters, but change the grid if needed (e.g., it takes too long). For the SVM for classification use SVC from sklearn.svm; for the grid search we suggest you use GridSearchCV from sklearn.model_selection, but you can implement your own cross-validation for model selection if you prefer.\n",
    "\n",
    "Print the best parameters used as well as the score obtained by the best model"
   ]
  },
  {
   "cell_type": "code",
   "execution_count": 11,
   "metadata": {
    "colab": {
     "base_uri": "https://localhost:8080/"
    },
    "id": "m0LonyMIbC0s",
    "outputId": "0d42ff7d-d192-4a2d-a1d3-0bd81d2acb36"
   },
   "outputs": [
    {
     "name": "stdout",
     "output_type": "stream",
     "text": [
      "RESULTS FOR LINEAR KERNEL\n",
      "\n",
      "Best parameters set found:\n",
      "{'C': 1}\n",
      "Score with best parameters:\n",
      "0.866\n",
      "\n",
      "All scores on the grid:\n",
      "0.866000 (0.033226) with: {'C': 1}\n",
      "0.866000 (0.033226) with: {'C': 10}\n",
      "0.866000 (0.033226) with: {'C': 100}\n",
      "\n",
      "RESULTS FOR POLY DEGREE=2 KERNEL\n",
      "\n",
      "Best parameters set found:\n",
      "{'C': 1, 'gamma': 0.1}\n",
      "Score with best parameters:\n",
      "0.866\n",
      "\n",
      "All scores on the grid:\n",
      "0.818000 (0.043543) with: {'C': 1, 'gamma': 0.01}\n",
      "0.866000 (0.036111) with: {'C': 1, 'gamma': 0.1}\n",
      "0.866000 (0.036111) with: {'C': 1, 'gamma': 1.0}\n",
      "0.864000 (0.032619) with: {'C': 10, 'gamma': 0.01}\n",
      "0.866000 (0.036111) with: {'C': 10, 'gamma': 0.1}\n",
      "0.866000 (0.036111) with: {'C': 10, 'gamma': 1.0}\n",
      "0.866000 (0.036111) with: {'C': 100, 'gamma': 0.01}\n",
      "0.866000 (0.036111) with: {'C': 100, 'gamma': 0.1}\n",
      "0.866000 (0.036111) with: {'C': 100, 'gamma': 1.0}\n",
      "\n",
      "RESULTS FOR rbf KERNEL\n",
      "\n",
      "Best parameters set found:\n",
      "{'C': 10, 'gamma': 0.01}\n",
      "Score with best parameters:\n",
      "0.882\n",
      "\n",
      "All scores on the grid:\n",
      "0.872000 (0.037630) with: {'C': 1, 'gamma': 0.01}\n",
      "0.524000 (0.026533) with: {'C': 1, 'gamma': 0.1}\n",
      "0.128000 (0.004000) with: {'C': 1, 'gamma': 1.0}\n",
      "0.882000 (0.030594) with: {'C': 10, 'gamma': 0.01}\n",
      "0.546000 (0.016248) with: {'C': 10, 'gamma': 0.1}\n",
      "0.128000 (0.004000) with: {'C': 10, 'gamma': 1.0}\n",
      "0.882000 (0.030594) with: {'C': 100, 'gamma': 0.01}\n",
      "0.546000 (0.016248) with: {'C': 100, 'gamma': 0.1}\n",
      "0.128000 (0.004000) with: {'C': 100, 'gamma': 1.0}\n"
     ]
    }
   ],
   "source": [
    "#import SVC\n",
    "from sklearn.svm import SVC\n",
    "#import for Cross-Validation\n",
    "from sklearn.model_selection import GridSearchCV\n",
    "\n",
    "# parameters for linear SVM\n",
    "parameters = {'C': [1, 10, 100]}\n",
    "\n",
    "#run linear SVM\n",
    "linear_SVM = SVC(kernel='linear')\n",
    "\n",
    "#find best model uusing 5-fold CV \n",
    "#and train it using all the training data\n",
    "# ADD CODE\n",
    "grid_search_svm = GridSearchCV(estimator=linear_SVM, param_grid=parameters, n_jobs=-1, cv=5, scoring='accuracy',error_score=0)\n",
    "grid_result = grid_search_svm.fit(X_train, y_train)\n",
    "print ('RESULTS FOR LINEAR KERNEL\\n')\n",
    "print(\"Best parameters set found:\")\n",
    "# ADD CODE\n",
    "print(grid_result.best_params_)\n",
    "print(\"Score with best parameters:\")\n",
    "# ADD CODE\n",
    "print(grid_result.best_score_)\n",
    "print(\"\\nAll scores on the grid:\")\n",
    "# ADD CODE\n",
    "means = grid_result.cv_results_['mean_test_score']\n",
    "stds = grid_result.cv_results_['std_test_score']\n",
    "params = grid_result.cv_results_['params']\n",
    "for mean, stdev, param in zip(means, stds, params):\n",
    "    print(\"%f (%f) with: %r\" % (mean, stdev, param))\n",
    "# parameters for poly with degree 2 kernel\n",
    "parameters = {'C': [1, 10, 100],'gamma':[0.01,0.1,1.]}\n",
    "\n",
    "#run SVM with poly of degree 2 kernel\n",
    "poly2_SVM = SVC(kernel='poly',degree=2)\n",
    "\n",
    "# ADD CODE: DO THE SAME AS ABOVE FOR POLYNOMIAL KERNEL WITH DEGREE=2\n",
    "grid_search_svm = GridSearchCV(estimator=poly2_SVM, param_grid=parameters, n_jobs=-1, cv=5, scoring='accuracy',error_score=0)\n",
    "grid_result = grid_search_svm.fit(X_train, y_train)\n",
    "\n",
    "print ('\\nRESULTS FOR POLY DEGREE=2 KERNEL\\n')\n",
    "\n",
    "print(\"Best parameters set found:\")\n",
    "# ADD CODE\n",
    "print(grid_result.best_params_)\n",
    "print(\"Score with best parameters:\")\n",
    "# ADD CODE\n",
    "print(grid_result.best_score_)\n",
    "print(\"\\nAll scores on the grid:\")\n",
    "# ADD CODE\n",
    "means = grid_result.cv_results_['mean_test_score']\n",
    "stds = grid_result.cv_results_['std_test_score']\n",
    "params = grid_result.cv_results_['params']\n",
    "for mean, stdev, param in zip(means, stds, params):\n",
    "    print(\"%f (%f) with: %r\" % (mean, stdev, param))\n",
    "    \n",
    "# parameters for rbf SVM\n",
    "parameters = {'C': [1, 10, 100],'gamma':[0.01,0.1,1.]}\n",
    "#run SVM with rbf kernel\n",
    "rbf_SVM = SVC(kernel='rbf')\n",
    "# ADD CODE: DO THE SAME AS ABOVE FOR RBF KERNEL\n",
    "grid_search_svm = GridSearchCV(estimator=rbf_SVM, param_grid=parameters, n_jobs=-1, cv=5, scoring='accuracy',error_score=0)\n",
    "grid_result = grid_search_svm.fit(X_train, y_train)\n",
    "print ('\\nRESULTS FOR rbf KERNEL\\n')\n",
    "print(\"Best parameters set found:\")\n",
    "# ADD CODE\n",
    "print(grid_result.best_params_)\n",
    "print(\"Score with best parameters:\")\n",
    "# ADD CODE\n",
    "print(grid_result.best_score_)\n",
    "print(\"\\nAll scores on the grid:\")\n",
    "# ADD CODE\n",
    "means = grid_result.cv_results_['mean_test_score']\n",
    "stds = grid_result.cv_results_['std_test_score']\n",
    "params = grid_result.cv_results_['params']\n",
    "for mean, stdev, param in zip(means, stds, params):\n",
    "    print(\"%f (%f) with: %r\" % (mean, stdev, param))"
   ]
  },
  {
   "cell_type": "markdown",
   "metadata": {
    "id": "cT94gNZobC0t"
   },
   "source": [
    "## TO DO 2\n",
    "For the \"best\" SVM kernel and choice of parameters from above, train the model on the entire training set and measure the training error. Also make predictions on the test set and measure the test error. Print the training and the test error."
   ]
  },
  {
   "cell_type": "code",
   "execution_count": 12,
   "metadata": {
    "colab": {
     "base_uri": "https://localhost:8080/"
    },
    "id": "15EDnq3EbC0t",
    "outputId": "7e232caf-d05a-4347-9861-777b317e408e"
   },
   "outputs": [
    {
     "name": "stdout",
     "output_type": "stream",
     "text": [
      "Best SVM training error: 0.000000\n",
      "Best SVM test error: 0.117496\n"
     ]
    }
   ],
   "source": [
    "#get training and test error for the best SVM model from CV\n",
    "best_SVM = SVC(kernel='rbf',C= 10, gamma= 0.01)\n",
    "\n",
    "# fit the model on the entire training set\n",
    "# ADD CODE\n",
    "best_SVM.fit(X_train, y_train)\n",
    "\n",
    "#get the training and test error\n",
    "training_error = 1. - best_SVM.score(X_train,y_train)\n",
    "test_error = 1. - best_SVM.score(X_test,y_test)\n",
    "print (\"Best SVM training error: %f\" % training_error)\n",
    "print (\"Best SVM test error: %f\" % test_error)"
   ]
  },
  {
   "cell_type": "markdown",
   "metadata": {
    "id": "YhICbBbvbC0u"
   },
   "source": [
    "## Use logistic regression for comparison\n",
    "\n",
    "## TO DO 3\n",
    "\n",
    "Just for comparison let's also use logistic regression, first with the default values of the parameter for regularization and then with cross-validation to fix the value of the parameter. For cross validation, use 5-fold cross validation and the default values of the regularization parameters for the function linear_model.LogisticRegressionCV(...)"
   ]
  },
  {
   "cell_type": "code",
   "execution_count": 13,
   "metadata": {
    "colab": {
     "base_uri": "https://localhost:8080/"
    },
    "id": "8jyrcSlCbC0v",
    "outputId": "37433922-a08b-4ecd-da9c-fa7c3d4c0935"
   },
   "outputs": [
    {
     "name": "stdout",
     "output_type": "stream",
     "text": [
      "Best logistic regression training error: 0.000000\n",
      "Best logistic regression test error: 0.158288\n",
      "Best logistic regression training error: 0.000000\n",
      "Best logistic regression test error: 0.158302\n"
     ]
    }
   ],
   "source": [
    "from sklearn import linear_model\n",
    "\n",
    "lr = linear_model.LogisticRegression(max_iter=3000)\n",
    "# fit the model on the training data\n",
    "# ADD CODE\n",
    "lr.fit(X_train, y_train)\n",
    "#compute training and test error for model above\n",
    "training_error = 1. - lr.score(X_train,y_train)\n",
    "test_error = 1. - lr.score(X_test,y_test)\n",
    "\n",
    "print (\"Best logistic regression training error: %f\" % training_error)\n",
    "print (\"Best logistic regression test error: %f\" % test_error)\n",
    "\n",
    "#logistic regression with 5-fold CV: you can use use linear_model.LogisticRegressionCV\n",
    "# use 5-fold CV to find the best choice of the parameter, than train\n",
    "# the model on the entire training set\n",
    "lr_cv =  linear_model.LogisticRegressionCV(Cs=list(np.power(10.0, np.arange(-10, 10))),cv=5,max_iter=3000)\n",
    "lr_cv.fit(X_train, y_train)\n",
    "training_error_cv = 1. - lr_cv.score(X_train,y_train)\n",
    "test_error_cv = 1. - lr_cv.score(X_test,y_test)\n",
    "\n",
    "print (\"Best logistic regression training error: %f\" % training_error_cv)\n",
    "print (\"Best logistic regression test error: %f\" % test_error_cv)"
   ]
  },
  {
   "cell_type": "markdown",
   "metadata": {
    "id": "-FCfih-tbC0w"
   },
   "source": [
    "## TO DO 4 \n",
    "Compare and comment the results from SVM and logistic regression."
   ]
  },
  {
   "cell_type": "markdown",
   "metadata": {
    "id": "KY06j64ZbC0w"
   },
   "source": [
    "## TO DO 5\n",
    "Write the code that finds and plots a digit that is missclassified by logistic regression (optimized for the regularization parameter) and correctly classified by the \"best\" SVM."
   ]
  },
  {
   "cell_type": "code",
   "execution_count": 14,
   "metadata": {
    "id": "3I8hyL9zbC0x"
   },
   "outputs": [],
   "source": [
    "predictions1 = lr_cv.predict(X_test).tolist()\n",
    "predictions2 = best_SVM.predict(X_test).tolist()"
   ]
  },
  {
   "cell_type": "code",
   "execution_count": 15,
   "metadata": {
    "id": "-Q8UjZU0bC0x"
   },
   "outputs": [],
   "source": [
    "a = y_test.tolist()"
   ]
  },
  {
   "cell_type": "code",
   "execution_count": 17,
   "metadata": {
    "colab": {
     "base_uri": "https://localhost:8080/",
     "height": 282
    },
    "id": "XxgktcyRbC0y",
    "outputId": "4d5b545d-e77c-4dc3-e076-a18ab1e04748"
   },
   "outputs": [
    {
     "name": "stdout",
     "output_type": "stream",
     "text": [
      "True label is 5 ,SVM prediction is 5  and Logistic regression is missclassified digit By The value 4\n"
     ]
    },
    {
     "data": {
      "image/png": "[encoded data removed]",
      "text/plain": [
       "<Figure size 1440x288 with 1 Axes>"
      ]
     },
     "metadata": {
      "needs_background": "light"
     },
     "output_type": "display_data"
    }
   ],
   "source": [
    "misclassifiedIndexes = []\n",
    "for index, (first, second , third) in enumerate(zip(predictions1, predictions2 , a)):\n",
    "    if first != second and second ==third:\n",
    "        misclassifiedIndexes.append(index)\n",
    "plt.figure(figsize=(20,4))\n",
    "plt.imshow(np.reshape(X_test[misclassifiedIndexes[0]], (28,28)), cmap=plt.cm.gray)\n",
    "print('True label is %s ,SVM prediction is %s  and Logistic regression is missclassified digit By The value %s'% (a[misclassifiedIndexes[0]] ,predictions2[misclassifiedIndexes[0]] ,predictions1[misclassifiedIndexes[0]]))        "
   ]
  },
  {
   "cell_type": "markdown",
   "metadata": {
    "id": "shXO_LqTbC0y"
   },
   "source": [
    "## More data\n",
    "Now let's do the same but using 1000 data points for training. \n",
    "\n",
    "## TO DO 6\n",
    "Repeat the entire analysis above using 1000 samples. Of course you can copy the code from above."
   ]
  },
  {
   "cell_type": "code",
   "execution_count": 18,
   "metadata": {
    "colab": {
     "base_uri": "https://localhost:8080/"
    },
    "id": "w_SgvQoObC0z",
    "outputId": "accaf3d1-ccc7-4de6-be1d-97d40bae6471"
   },
   "outputs": [
    {
     "name": "stdout",
     "output_type": "stream",
     "text": [
      "Labels and frequencies in training dataset: \n"
     ]
    },
    {
     "data": {
      "text/plain": [
       "(array(['0', '1', '2', '3', '4', '5', '6', '7', '8', '9'], dtype=object),\n",
       " array([ 95, 101,  99, 102,  90,  97, 115,  96, 114,  91]))"
      ]
     },
     "execution_count": 18,
     "metadata": {},
     "output_type": "execute_result"
    }
   ],
   "source": [
    "permutation = np.random.permutation(X.shape[0])\n",
    "\n",
    "X = X[permutation]\n",
    "y = y[permutation]\n",
    "\n",
    "m_training = 1000\n",
    "\n",
    "X_train, X_test = X[:m_training], X[m_training:]\n",
    "y_train, y_test = y[:m_training], y[m_training:]\n",
    "\n",
    "print(\"Labels and frequencies in training dataset: \")\n",
    "np.unique(y_train, return_counts = True)"
   ]
  },
  {
   "cell_type": "code",
   "execution_count": 19,
   "metadata": {
    "colab": {
     "base_uri": "https://localhost:8080/",
     "height": 582
    },
    "id": "6c0ASDlvbC00",
    "outputId": "71fec35f-1be5-4518-9559-6c4688c31d9f"
   },
   "outputs": [
    {
     "name": "stdout",
     "output_type": "stream",
     "text": [
      "INPUT:\n"
     ]
    },
    {
     "data": {
      "image/png": "[encoded data removed]",
      "text/plain": [
       "<Figure size 432x288 with 1 Axes>"
      ]
     },
     "metadata": {
      "needs_background": "light"
     },
     "output_type": "display_data"
    },
    {
     "name": "stdout",
     "output_type": "stream",
     "text": [
      "LABEL: 6\n",
      "INPUT:\n"
     ]
    },
    {
     "data": {
      "image/png": "[encoded data removed]",
      "text/plain": [
       "<Figure size 432x288 with 1 Axes>"
      ]
     },
     "metadata": {
      "needs_background": "light"
     },
     "output_type": "display_data"
    },
    {
     "name": "stdout",
     "output_type": "stream",
     "text": [
      "LABEL: 0\n"
     ]
    }
   ],
   "source": [
    "#let's try the plotting function\n",
    "plot_digit(X_train,y_train,100)\n",
    "plot_digit(X_test,y_test,40000)"
   ]
  },
  {
   "cell_type": "code",
   "execution_count": 20,
   "metadata": {
    "colab": {
     "base_uri": "https://localhost:8080/"
    },
    "id": "GYPhPJ2FbC01",
    "outputId": "2df1f4de-4697-4e03-831f-57ef1ae541fc"
   },
   "outputs": [
    {
     "name": "stdout",
     "output_type": "stream",
     "text": [
      "RESULTS FOR LINEAR KERNEL\n",
      "\n",
      "Best parameters set found:\n",
      "{'C': 1}\n",
      "Score with best parameters:\n",
      "0.8850000000000001\n",
      "\n",
      "All scores on the grid:\n",
      "0.885000 (0.015492) with: {'C': 1}\n",
      "0.885000 (0.015492) with: {'C': 10}\n",
      "0.885000 (0.015492) with: {'C': 100}\n",
      "\n",
      "RESULTS FOR POLY DEGREE=2 KERNEL\n",
      "\n",
      "Best parameters set found:\n",
      "{'C': 1, 'gamma': 0.1}\n",
      "Score with best parameters:\n",
      "0.893\n",
      "\n",
      "All scores on the grid:\n",
      "0.888000 (0.013638) with: {'C': 1, 'gamma': 0.01}\n",
      "0.893000 (0.017776) with: {'C': 1, 'gamma': 0.1}\n",
      "0.893000 (0.017776) with: {'C': 1, 'gamma': 1.0}\n",
      "0.892000 (0.018055) with: {'C': 10, 'gamma': 0.01}\n",
      "0.893000 (0.017776) with: {'C': 10, 'gamma': 0.1}\n",
      "0.893000 (0.017776) with: {'C': 10, 'gamma': 1.0}\n",
      "0.893000 (0.017776) with: {'C': 100, 'gamma': 0.01}\n",
      "0.893000 (0.017776) with: {'C': 100, 'gamma': 0.1}\n",
      "0.893000 (0.017776) with: {'C': 100, 'gamma': 1.0}\n",
      "\n",
      "RESULTS FOR rbf KERNEL\n",
      "\n",
      "Best parameters set found:\n",
      "{'C': 10, 'gamma': 0.01}\n",
      "Score with best parameters:\n",
      "0.9110000000000001\n",
      "\n",
      "All scores on the grid:\n",
      "0.901000 (0.007348) with: {'C': 1, 'gamma': 0.01}\n",
      "0.593000 (0.044340) with: {'C': 1, 'gamma': 0.1}\n",
      "0.114000 (0.002000) with: {'C': 1, 'gamma': 1.0}\n",
      "0.911000 (0.012806) with: {'C': 10, 'gamma': 0.01}\n",
      "0.629000 (0.042119) with: {'C': 10, 'gamma': 0.1}\n",
      "0.115000 (0.003162) with: {'C': 10, 'gamma': 1.0}\n",
      "0.911000 (0.012806) with: {'C': 100, 'gamma': 0.01}\n",
      "0.629000 (0.042119) with: {'C': 100, 'gamma': 0.1}\n",
      "0.115000 (0.003162) with: {'C': 100, 'gamma': 1.0}\n"
     ]
    }
   ],
   "source": [
    "#import SVC\n",
    "from sklearn.svm import SVC\n",
    "#import for Cross-Validation\n",
    "from sklearn.model_selection import GridSearchCV\n",
    "\n",
    "# parameters for linear SVM\n",
    "parameters = {'C': [1, 10, 100]}\n",
    "\n",
    "#run linear SVM\n",
    "linear_SVM = SVC(kernel='linear')\n",
    "\n",
    "#find best model uusing 5-fold CV \n",
    "#and train it using all the training data\n",
    "# ADD CODE\n",
    "grid_search_svm = GridSearchCV(estimator=linear_SVM, param_grid=parameters, n_jobs=-1, cv=5, scoring='accuracy',error_score=0)\n",
    "grid_result = grid_search_svm.fit(X_train, y_train)\n",
    "print ('RESULTS FOR LINEAR KERNEL\\n')\n",
    "print(\"Best parameters set found:\")\n",
    "# ADD CODE\n",
    "print(grid_result.best_params_)\n",
    "print(\"Score with best parameters:\")\n",
    "# ADD CODE\n",
    "print(grid_result.best_score_)\n",
    "print(\"\\nAll scores on the grid:\")\n",
    "# ADD CODE\n",
    "means = grid_result.cv_results_['mean_test_score']\n",
    "stds = grid_result.cv_results_['std_test_score']\n",
    "params = grid_result.cv_results_['params']\n",
    "for mean, stdev, param in zip(means, stds, params):\n",
    "    print(\"%f (%f) with: %r\" % (mean, stdev, param))\n",
    "# parameters for poly with degree 2 kernel\n",
    "parameters = {'C': [1, 10, 100],'gamma':[0.01,0.1,1.]}\n",
    "\n",
    "#run SVM with poly of degree 2 kernel\n",
    "poly2_SVM = SVC(kernel='poly',degree=2)\n",
    "\n",
    "# ADD CODE: DO THE SAME AS ABOVE FOR POLYNOMIAL KERNEL WITH DEGREE=2\n",
    "grid_search_svm = GridSearchCV(estimator=poly2_SVM, param_grid=parameters, n_jobs=-1, cv=5, scoring='accuracy',error_score=0)\n",
    "grid_result = grid_search_svm.fit(X_train, y_train)\n",
    "\n",
    "print ('\\nRESULTS FOR POLY DEGREE=2 KERNEL\\n')\n",
    "\n",
    "print(\"Best parameters set found:\")\n",
    "# ADD CODE\n",
    "print(grid_result.best_params_)\n",
    "print(\"Score with best parameters:\")\n",
    "# ADD CODE\n",
    "print(grid_result.best_score_)\n",
    "print(\"\\nAll scores on the grid:\")\n",
    "# ADD CODE\n",
    "means = grid_result.cv_results_['mean_test_score']\n",
    "stds = grid_result.cv_results_['std_test_score']\n",
    "params = grid_result.cv_results_['params']\n",
    "for mean, stdev, param in zip(means, stds, params):\n",
    "    print(\"%f (%f) with: %r\" % (mean, stdev, param))\n",
    "    \n",
    "# parameters for rbf SVM\n",
    "parameters = {'C': [1, 10, 100],'gamma':[0.01,0.1,1.]}\n",
    "#run SVM with rbf kernel\n",
    "rbf_SVM = SVC(kernel='rbf')\n",
    "# ADD CODE: DO THE SAME AS ABOVE FOR RBF KERNEL\n",
    "grid_search_svm = GridSearchCV(estimator=rbf_SVM, param_grid=parameters, n_jobs=-1, cv=5, scoring='accuracy',error_score=0)\n",
    "grid_result = grid_search_svm.fit(X_train, y_train)\n",
    "print ('\\nRESULTS FOR rbf KERNEL\\n')\n",
    "print(\"Best parameters set found:\")\n",
    "# ADD CODE\n",
    "print(grid_result.best_params_)\n",
    "print(\"Score with best parameters:\")\n",
    "# ADD CODE\n",
    "print(grid_result.best_score_)\n",
    "print(\"\\nAll scores on the grid:\")\n",
    "# ADD CODE\n",
    "means = grid_result.cv_results_['mean_test_score']\n",
    "stds = grid_result.cv_results_['std_test_score']\n",
    "params = grid_result.cv_results_['params']\n",
    "for mean, stdev, param in zip(means, stds, params):\n",
    "    print(\"%f (%f) with: %r\" % (mean, stdev, param))"
   ]
  },
  {
   "cell_type": "code",
   "execution_count": 21,
   "metadata": {
    "colab": {
     "base_uri": "https://localhost:8080/"
    },
    "id": "fMNcDr_KbC02",
    "outputId": "5f8dd2b1-ca19-4f12-a704-41c2a8bf52f9"
   },
   "outputs": [
    {
     "name": "stdout",
     "output_type": "stream",
     "text": [
      "Best SVM training error: 0.000000\n",
      "Best SVM test error: 0.081130\n"
     ]
    }
   ],
   "source": [
    "#get training and test error for the best SVM model from CV\n",
    "best_SVM = SVC(kernel='rbf',C= 10, gamma= 0.01)\n",
    "\n",
    "# fit the model on the entire training set\n",
    "# ADD CODE\n",
    "best_SVM.fit(X_train, y_train)\n",
    "\n",
    "#get the training and test error\n",
    "training_error = 1. - best_SVM.score(X_train,y_train)\n",
    "test_error = 1. - best_SVM.score(X_test,y_test)\n",
    "print (\"Best SVM training error: %f\" % training_error)\n",
    "print (\"Best SVM test error: %f\" % test_error)"
   ]
  },
  {
   "cell_type": "code",
   "execution_count": 22,
   "metadata": {
    "colab": {
     "base_uri": "https://localhost:8080/"
    },
    "id": "RslekWSZbC04",
    "outputId": "fbe741d4-3532-4a9e-fbee-c5c3d99aa0d3"
   },
   "outputs": [
    {
     "name": "stdout",
     "output_type": "stream",
     "text": [
      "Best logistic regression training error: 0.000000\n",
      "Best logistic regression test error: 0.122986\n",
      "Best logistic regression training error: 0.000000\n",
      "Best logistic regression test error: 0.122986\n"
     ]
    }
   ],
   "source": [
    "from sklearn import linear_model\n",
    "\n",
    "lr = linear_model.LogisticRegression(max_iter=3000)\n",
    "# fit the model on the training data\n",
    "# ADD CODE\n",
    "lr.fit(X_train, y_train)\n",
    "#compute training and test error for model above\n",
    "training_error = 1. - lr.score(X_train,y_train)\n",
    "test_error = 1. - lr.score(X_test,y_test)\n",
    "\n",
    "print (\"Best logistic regression training error: %f\" % training_error)\n",
    "print (\"Best logistic regression test error: %f\" % test_error)\n",
    "\n",
    "#logistic regression with 5-fold CV: you can use use linear_model.LogisticRegressionCV\n",
    "# use 5-fold CV to find the best choice of the parameter, than train\n",
    "# the model on the entire training set\n",
    "lr_cv =  linear_model.LogisticRegressionCV(Cs=list(np.power(10.0, np.arange(-10, 10))),cv=5,max_iter=3000)\n",
    "lr_cv.fit(X_train, y_train)\n",
    "training_error_cv = 1. - lr_cv.score(X_train,y_train)\n",
    "test_error_cv = 1. - lr_cv.score(X_test,y_test)\n",
    "\n",
    "print (\"Best logistic regression training error: %f\" % training_error_cv)\n",
    "print (\"Best logistic regression test error: %f\" % test_error_cv)"
   ]
  },
  {
   "cell_type": "code",
   "execution_count": 23,
   "metadata": {
    "colab": {
     "base_uri": "https://localhost:8080/",
     "height": 282
    },
    "id": "xiA3CLg2bC05",
    "outputId": "414ff18f-ecd7-4e08-efa8-6907f9456cc6"
   },
   "outputs": [
    {
     "name": "stdout",
     "output_type": "stream",
     "text": [
      "True label is 0 ,SVM prediction is 0  and Logistic regression is missclassified digit By The value 6\n"
     ]
    },
    {
     "data": {
      "image/png": "[encoded data removed]",
      "text/plain": [
       "<Figure size 1440x288 with 1 Axes>"
      ]
     },
     "metadata": {
      "needs_background": "light"
     },
     "output_type": "display_data"
    }
   ],
   "source": [
    "predictions1 = lr_cv.predict(X_test).tolist()\n",
    "predictions2 = best_SVM.predict(X_test).tolist()\n",
    "a = y_test.tolist()\n",
    "misclassifiedIndexes = []\n",
    "for index, (first, second , third) in enumerate(zip(predictions1, predictions2 , a)):\n",
    "    if first != second and second ==third:\n",
    "        misclassifiedIndexes.append(index)\n",
    "plt.figure(figsize=(20,4))\n",
    "plt.imshow(np.reshape(X_test[misclassifiedIndexes[0]], (28,28)), cmap=plt.cm.gray)\n",
    "print('True label is %s ,SVM prediction is %s  and Logistic regression is missclassified digit By The value %s'% (a[misclassifiedIndexes[0]] ,predictions2[misclassifiedIndexes[0]] ,predictions1[misclassifiedIndexes[0]]))        "
   ]
  },
  {
   "cell_type": "markdown",
   "metadata": {
    "id": "q8usGlvkbC05"
   },
   "source": [
    "## TO DO 7\n",
    "Compare and comment on the differences with the results above."
   ]
  },
  {
   "cell_type": "markdown",
   "metadata": {
    "id": "VaIr_OatbC06"
   },
   "source": [
    "### important results are :\n",
    "#### 1) Overal Performance of SVM is better than both of the simple and optimize Logistic Regression \n",
    "#### 2 ) Performance of Regularized Logistic Regression is better than simple one \n",
    "#### 3 ) With more Training Data all models work better on training and test Sets "
   ]
  },
  {
   "cell_type": "code",
   "execution_count": 24,
   "metadata": {
    "colab": {
     "base_uri": "https://localhost:8080/"
    },
    "id": "BvFIYzFabC06",
    "outputId": "cb6e9ecc-843f-407d-9450-9d307c0ee12c"
   },
   "outputs": [
    {
     "name": "stdout",
     "output_type": "stream",
     "text": [
      "Tue Jan 18 18:33:33 2022       \n",
      "+-----------------------------------------------------------------------------+\n",
      "| NVIDIA-SMI 495.46       Driver Version: 460.32.03    CUDA Version: 11.2     |\n",
      "|-------------------------------+----------------------+----------------------+\n",
      "| GPU  Name        Persistence-M| Bus-Id        Disp.A | Volatile Uncorr. ECC |\n",
      "| Fan  Temp  Perf  Pwr:Usage/Cap|         Memory-Usage | GPU-Util  Compute M. |\n",
      "|                               |                      |               MIG M. |\n",
      "|===============================+======================+======================|\n",
      "|   0  Tesla T4            Off  | 00000000:00:04.0 Off |                    0 |\n",
      "| N/A   32C    P8     9W /  70W |      0MiB / 15109MiB |      0%      Default |\n",
      "|                               |                      |                  N/A |\n",
      "+-------------------------------+----------------------+----------------------+\n",
      "                                                                               \n",
      "+-----------------------------------------------------------------------------+\n",
      "| Processes:                                                                  |\n",
      "|  GPU   GI   CI        PID   Type   Process name                  GPU Memory |\n",
      "|        ID   ID                                                   Usage      |\n",
      "|=============================================================================|\n",
      "|  No running processes found                                                 |\n",
      "+-----------------------------------------------------------------------------+\n"
     ]
    }
   ],
   "source": [
    "!nvidia-smi"
   ]
  },
  {
   "cell_type": "code",
   "execution_count": 25,
   "metadata": {
    "colab": {
     "base_uri": "https://localhost:8080/"
    },
    "id": "ZJYPJ3_6d1F-",
    "outputId": "5dfb552c-0404-4cf3-cf8b-b5730b7e3dfc"
   },
   "outputs": [
    {
     "name": "stdout",
     "output_type": "stream",
     "text": [
      "Package                       Version\n",
      "----------------------------- --------------\n",
      "absl-py                       0.12.0\n",
      "alabaster                     0.7.12\n",
      "albumentations                0.1.12\n",
      "altair                        4.2.0\n",
      "appdirs                       1.4.4\n",
      "argcomplete                   2.0.0\n",
      "argon2-cffi                   21.3.0\n",
      "argon2-cffi-bindings          21.2.0\n",
      "arviz                         0.11.4\n",
      "astor                         0.8.1\n",
      "astropy                       4.3.1\n",
      "astunparse                    1.6.3\n",
      "atari-py                      0.2.9\n",
      "atomicwrites                  1.4.0\n",
      "attrs                         21.4.0\n",
      "audioread                     2.1.9\n",
      "autograd                      1.3\n",
      "Babel                         2.9.1\n",
      "backcall                      0.2.0\n",
      "beautifulsoup4                4.6.3\n",
      "bleach                        4.1.0\n",
      "blis                          0.4.1\n",
      "bokeh                         2.3.3\n",
      "Bottleneck                    1.3.2\n",
      "branca                        0.4.2\n",
      "bs4                           0.0.1\n",
      "CacheControl                  0.12.10\n",
      "cached-property               1.5.2\n",
      "cachetools                    4.2.4\n",
      "catalogue                     1.0.0\n",
      "certifi                       2021.10.8\n",
      "cffi                          1.15.0\n",
      "cftime                        1.5.1.1\n",
      "chardet                       3.0.4\n",
      "charset-normalizer            2.0.10\n",
      "click                         7.1.2\n",
      "cloudpickle                   1.3.0\n",
      "cmake                         3.12.0\n",
      "cmdstanpy                     0.9.5\n",
      "colorcet                      3.0.0\n",
      "colorlover                    0.3.0\n",
      "community                     1.0.0b1\n",
      "contextlib2                   0.5.5\n",
      "convertdate                   2.3.2\n",
      "coverage                      3.7.1\n",
      "coveralls                     0.5\n",
      "crcmod                        1.7\n",
      "cufflinks                     0.17.3\n",
      "cupy-cuda111                  9.4.0\n",
      "cvxopt                        1.2.7\n",
      "cvxpy                         1.0.31\n",
      "cycler                        0.11.0\n",
      "cymem                         2.0.6\n",
      "Cython                        0.29.26\n",
      "daft                          0.0.4\n",
      "dask                          2.12.0\n",
      "datascience                   0.10.6\n",
      "debugpy                       1.0.0\n",
      "decorator                     4.4.2\n",
      "defusedxml                    0.7.1\n",
      "descartes                     1.1.0\n",
      "dill                          0.3.4\n",
      "distributed                   1.25.3\n",
      "dlib                          19.18.0\n",
      "dm-tree                       0.1.6\n",
      "docopt                        0.6.2\n",
      "docutils                      0.17.1\n",
      "dopamine-rl                   1.0.5\n",
      "earthengine-api               0.1.293\n",
      "easydict                      1.9\n",
      "ecos                          2.0.10\n",
      "editdistance                  0.5.3\n",
      "en-core-web-sm                2.2.5\n",
      "entrypoints                   0.3\n",
      "ephem                         4.1.3\n",
      "et-xmlfile                    1.1.0\n",
      "fa2                           0.3.5\n",
      "fastai                        1.0.61\n",
      "fastdtw                       0.3.4\n",
      "fastprogress                  1.0.0\n",
      "fastrlock                     0.8\n",
      "fbprophet                     0.7.1\n",
      "feather-format                0.4.1\n",
      "filelock                      3.4.2\n",
      "firebase-admin                4.4.0\n",
      "fix-yahoo-finance             0.0.22\n",
      "Flask                         1.1.4\n",
      "flatbuffers                   2.0\n",
      "folium                        0.8.3\n",
      "future                        0.16.0\n",
      "gast                          0.4.0\n",
      "GDAL                          2.2.2\n",
      "gdown                         3.6.4\n",
      "gensim                        3.6.0\n",
      "geographiclib                 1.52\n",
      "geopy                         1.17.0\n",
      "gin-config                    0.5.0\n",
      "glob2                         0.7\n",
      "google                        2.0.3\n",
      "google-api-core               1.26.3\n",
      "google-api-python-client      1.12.8\n",
      "google-auth                   1.35.0\n",
      "google-auth-httplib2          0.0.4\n",
      "google-auth-oauthlib          0.4.6\n",
      "google-cloud-bigquery         1.21.0\n",
      "google-cloud-bigquery-storage 1.1.0\n",
      "google-cloud-core             1.0.3\n",
      "google-cloud-datastore        1.8.0\n",
      "google-cloud-firestore        1.7.0\n",
      "google-cloud-language         1.2.0\n",
      "google-cloud-storage          1.18.1\n",
      "google-cloud-translate        1.5.0\n",
      "google-colab                  1.0.0\n",
      "google-pasta                  0.2.0\n",
      "google-resumable-media        0.4.1\n",
      "googleapis-common-protos      1.54.0\n",
      "googledrivedownloader         0.4\n",
      "graphviz                      0.10.1\n",
      "greenlet                      1.1.2\n",
      "grpcio                        1.43.0\n",
      "gspread                       3.4.2\n",
      "gspread-dataframe             3.0.8\n",
      "gym                           0.17.3\n",
      "h5py                          3.1.0\n",
      "HeapDict                      1.0.1\n",
      "hijri-converter               2.2.2\n",
      "holidays                      0.10.5.2\n",
      "holoviews                     1.14.7\n",
      "html5lib                      1.0.1\n",
      "httpimport                    0.5.18\n",
      "httplib2                      0.17.4\n",
      "httplib2shim                  0.0.3\n",
      "humanize                      0.5.1\n",
      "hyperopt                      0.1.2\n",
      "ideep4py                      2.0.0.post3\n",
      "idna                          2.10\n",
      "imageio                       2.4.1\n",
      "imagesize                     1.3.0\n",
      "imbalanced-learn              0.8.1\n",
      "imblearn                      0.0\n",
      "imgaug                        0.2.9\n",
      "importlib-metadata            4.10.0\n",
      "importlib-resources           5.4.0\n",
      "imutils                       0.5.4\n",
      "inflect                       2.1.0\n",
      "iniconfig                     1.1.1\n",
      "intel-openmp                  2022.0.1\n",
      "intervaltree                  2.1.0\n",
      "ipykernel                     4.10.1\n",
      "ipython                       5.5.0\n",
      "ipython-genutils              0.2.0\n",
      "ipython-sql                   0.3.9\n",
      "ipywidgets                    7.6.5\n",
      "itsdangerous                  1.1.0\n",
      "jax                           0.2.25\n",
      "jaxlib                        0.1.71+cuda111\n",
      "jdcal                         1.4.1\n",
      "jedi                          0.18.1\n",
      "jieba                         0.42.1\n",
      "Jinja2                        2.11.3\n",
      "joblib                        1.1.0\n",
      "jpeg4py                       0.1.4\n",
      "jsonschema                    4.3.3\n",
      "jupyter                       1.0.0\n",
      "jupyter-client                5.3.5\n",
      "jupyter-console               5.2.0\n",
      "jupyter-core                  4.9.1\n",
      "jupyterlab-pygments           0.1.2\n",
      "jupyterlab-widgets            1.0.2\n",
      "kaggle                        1.5.12\n",
      "kapre                         0.3.6\n",
      "keras                         2.7.0\n",
      "Keras-Preprocessing           1.1.2\n",
      "keras-vis                     0.4.1\n",
      "kiwisolver                    1.3.2\n",
      "korean-lunar-calendar         0.2.1\n",
      "libclang                      12.0.0\n",
      "librosa                       0.8.1\n",
      "lightgbm                      2.2.3\n",
      "llvmlite                      0.34.0\n",
      "lmdb                          0.99\n",
      "LunarCalendar                 0.0.9\n",
      "lxml                          4.2.6\n",
      "Markdown                      3.3.6\n",
      "MarkupSafe                    2.0.1\n",
      "matplotlib                    3.2.2\n",
      "matplotlib-inline             0.1.3\n",
      "matplotlib-venn               0.11.6\n",
      "missingno                     0.5.0\n",
      "mistune                       0.8.4\n",
      "mizani                        0.6.0\n",
      "mkl                           2019.0\n",
      "mlxtend                       0.14.0\n",
      "more-itertools                8.12.0\n",
      "moviepy                       0.2.3.5\n",
      "mpmath                        1.2.1\n",
      "msgpack                       1.0.3\n",
      "multiprocess                  0.70.12.2\n",
      "multitasking                  0.0.10\n",
      "murmurhash                    1.0.6\n",
      "music21                       5.5.0\n",
      "natsort                       5.5.0\n",
      "nbclient                      0.5.9\n",
      "nbconvert                     5.6.1\n",
      "nbformat                      5.1.3\n",
      "nest-asyncio                  1.5.4\n",
      "netCDF4                       1.5.8\n",
      "networkx                      2.6.3\n",
      "nibabel                       3.0.2\n",
      "nltk                          3.2.5\n",
      "notebook                      5.3.1\n",
      "numba                         0.51.2\n",
      "numexpr                       2.8.1\n",
      "numpy                         1.19.5\n",
      "nvidia-ml-py3                 7.352.0\n",
      "oauth2client                  4.1.3\n",
      "oauthlib                      3.1.1\n",
      "okgrade                       0.4.3\n",
      "opencv-contrib-python         4.1.2.30\n",
      "opencv-python                 4.1.2.30\n",
      "openpyxl                      2.5.9\n",
      "opt-einsum                    3.3.0\n",
      "osqp                          0.6.2.post0\n",
      "packaging                     21.3\n",
      "palettable                    3.3.0\n",
      "pandas                        1.1.5\n",
      "pandas-datareader             0.9.0\n",
      "pandas-gbq                    0.13.3\n",
      "pandas-profiling              1.4.1\n",
      "pandocfilters                 1.5.0\n",
      "panel                         0.12.1\n",
      "param                         1.12.0\n",
      "parso                         0.8.3\n",
      "pathlib                       1.0.1\n",
      "patsy                         0.5.2\n",
      "pep517                        0.12.0\n",
      "pexpect                       4.8.0\n",
      "pickleshare                   0.7.5\n",
      "Pillow                        7.1.2\n",
      "pip                           21.1.3\n",
      "pip-tools                     6.2.0\n",
      "plac                          1.1.3\n",
      "plotly                        4.4.1\n",
      "plotnine                      0.6.0\n",
      "pluggy                        0.7.1\n",
      "pooch                         1.5.2\n",
      "portpicker                    1.3.9\n",
      "prefetch-generator            1.0.1\n",
      "preshed                       3.0.6\n",
      "prettytable                   3.0.0\n",
      "progressbar2                  3.38.0\n",
      "prometheus-client             0.12.0\n",
      "promise                       2.3\n",
      "prompt-toolkit                1.0.18\n",
      "protobuf                      3.17.3\n",
      "psutil                        5.4.8\n",
      "psycopg2                      2.7.6.1\n",
      "ptyprocess                    0.7.0\n",
      "py                            1.11.0\n",
      "pyarrow                       3.0.0\n",
      "pyasn1                        0.4.8\n",
      "pyasn1-modules                0.2.8\n",
      "pycocotools                   2.0.4\n",
      "pycparser                     2.21\n",
      "pyct                          0.4.8\n",
      "pydata-google-auth            1.3.0\n",
      "pydot                         1.3.0\n",
      "pydot-ng                      2.0.0\n",
      "pydotplus                     2.0.2\n",
      "PyDrive                       1.3.1\n",
      "pyemd                         0.5.1\n",
      "pyerfa                        2.0.0.1\n",
      "pyglet                        1.5.0\n",
      "Pygments                      2.6.1\n",
      "pygobject                     3.26.1\n",
      "pymc3                         3.11.4\n",
      "PyMeeus                       0.5.11\n",
      "pymongo                       4.0.1\n",
      "pymystem3                     0.2.0\n",
      "PyOpenGL                      3.1.5\n",
      "pyparsing                     3.0.6\n",
      "pyrsistent                    0.18.0\n",
      "pysndfile                     1.3.8\n",
      "PySocks                       1.7.1\n",
      "pystan                        2.19.1.1\n",
      "pytest                        3.6.4\n",
      "python-apt                    0.0.0\n",
      "python-chess                  0.23.11\n",
      "python-dateutil               2.8.2\n",
      "python-louvain                0.15\n",
      "python-slugify                5.0.2\n",
      "python-utils                  3.0.0\n",
      "pytz                          2018.9\n",
      "pyviz-comms                   2.1.0\n",
      "PyWavelets                    1.2.0\n",
      "PyYAML                        3.13\n",
      "pyzmq                         22.3.0\n",
      "qdldl                         0.1.5.post0\n",
      "qtconsole                     5.2.2\n",
      "QtPy                          2.0.0\n",
      "regex                         2019.12.20\n",
      "requests                      2.23.0\n",
      "requests-oauthlib             1.3.0\n",
      "resampy                       0.2.2\n",
      "retrying                      1.3.3\n",
      "rpy2                          3.4.5\n",
      "rsa                           4.8\n",
      "scikit-image                  0.18.3\n",
      "scikit-learn                  1.0.2\n",
      "scipy                         1.4.1\n",
      "screen-resolution-extra       0.0.0\n",
      "scs                           3.0.1\n",
      "seaborn                       0.11.2\n",
      "semver                        2.13.0\n",
      "Send2Trash                    1.8.0\n",
      "setuptools                    57.4.0\n",
      "setuptools-git                1.2\n",
      "Shapely                       1.8.0\n",
      "simplegeneric                 0.8.1\n",
      "six                           1.15.0\n",
      "sklearn                       0.0\n",
      "sklearn-pandas                1.8.0\n",
      "smart-open                    5.2.1\n",
      "snowballstemmer               2.2.0\n",
      "sortedcontainers              2.4.0\n",
      "SoundFile                     0.10.3.post1\n",
      "spacy                         2.2.4\n",
      "Sphinx                        1.8.6\n",
      "sphinxcontrib-serializinghtml 1.1.5\n",
      "sphinxcontrib-websupport      1.2.4\n",
      "SQLAlchemy                    1.4.29\n",
      "sqlparse                      0.4.2\n",
      "srsly                         1.0.5\n",
      "statsmodels                   0.10.2\n",
      "sympy                         1.7.1\n",
      "tables                        3.4.4\n",
      "tabulate                      0.8.9\n",
      "tblib                         1.7.0\n",
      "tensorboard                   2.7.0\n",
      "tensorboard-data-server       0.6.1\n",
      "tensorboard-plugin-wit        1.8.1\n",
      "tensorflow                    2.7.0\n",
      "tensorflow-datasets           4.0.1\n",
      "tensorflow-estimator          2.7.0\n",
      "tensorflow-gcs-config         2.7.0\n",
      "tensorflow-hub                0.12.0\n",
      "tensorflow-io-gcs-filesystem  0.23.1\n",
      "tensorflow-metadata           1.5.0\n",
      "tensorflow-probability        0.15.0\n",
      "termcolor                     1.1.0\n",
      "terminado                     0.12.1\n",
      "testpath                      0.5.0\n",
      "text-unidecode                1.3\n",
      "textblob                      0.15.3\n",
      "Theano-PyMC                   1.1.2\n",
      "thinc                         7.4.0\n",
      "threadpoolctl                 3.0.0\n",
      "tifffile                      2021.11.2\n",
      "toml                          0.10.2\n",
      "tomli                         2.0.0\n",
      "toolz                         0.11.2\n",
      "torch                         1.10.0+cu111\n",
      "torchaudio                    0.10.0+cu111\n",
      "torchsummary                  1.5.1\n",
      "torchtext                     0.11.0\n",
      "torchvision                   0.11.1+cu111\n",
      "tornado                       5.1.1\n",
      "tqdm                          4.62.3\n",
      "traitlets                     5.1.1\n",
      "tweepy                        3.10.0\n",
      "typeguard                     2.7.1\n",
      "typing-extensions             3.10.0.2\n",
      "tzlocal                       1.5.1\n",
      "uritemplate                   3.0.1\n",
      "urllib3                       1.24.3\n",
      "vega-datasets                 0.9.0\n",
      "wasabi                        0.9.0\n",
      "wcwidth                       0.2.5\n",
      "webencodings                  0.5.1\n",
      "Werkzeug                      1.0.1\n",
      "wheel                         0.37.1\n",
      "widgetsnbextension            3.5.2\n",
      "wordcloud                     1.5.0\n",
      "wrapt                         1.13.3\n",
      "xarray                        0.18.2\n",
      "xgboost                       0.90\n",
      "xkit                          0.0.0\n",
      "xlrd                          1.1.0\n",
      "xlwt                          1.3.0\n",
      "yellowbrick                   1.3.post1\n",
      "zict                          2.0.0\n",
      "zipp                          3.7.0\n"
     ]
    }
   ],
   "source": [
    "!pip list"
   ]
  }
 ],
 "metadata": {
  "accelerator": "GPU",
  "colab": {
   "name": "Support Vector Machines.ipynb",
   "provenance": [],
   "toc_visible": true
  },
  "kernelspec": {
   "display_name": "Python 3",
   "language": "python",
   "name": "python3"
  },
  "language_info": {
   "codemirror_mode": {
    "name": "ipython",
    "version": 3
   },
   "file_extension": ".py",
   "mimetype": "text/x-python",
   "name": "python",
   "nbconvert_exporter": "python",
   "pygments_lexer": "ipython3",
   "version": "3.7.3"
  }
 },
 "nbformat": 4,
 "nbformat_minor": 1
}
